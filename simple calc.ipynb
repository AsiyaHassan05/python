{
 "cells": [
  {
   "cell_type": "code",
   "execution_count": null,
   "id": "72b73a76-a09e-44b4-a4b8-1b430dea6230",
   "metadata": {},
   "outputs": [],
   "source": []
  },
  {
   "cell_type": "markdown",
   "id": "23d1c440-5412-40a9-a58f-9626715f89db",
   "metadata": {},
   "source": [
    "### Simple calculator"
   ]
  },
  {
   "cell_type": "code",
   "execution_count": null,
   "id": "f50f28f0-2722-46e9-a7e8-aa0ea1f78b34",
   "metadata": {},
   "outputs": [],
   "source": [
    "import tkinter as tk\n",
    "\n",
    "def on_click(event):   #funstion trigger\n",
    "    text = event.widget.cget(\"text\")\n",
    "    if text == \"=\":\n",
    "        try:\n",
    "            result = str(eval(str(screen.get())))\n",
    "            screen_var.set(result)\n",
    "        except Exception:\n",
    "            screen_var.set(\"Error\")\n",
    "    elif text == \"C\":\n",
    "        screen_var.set(\"\")\n",
    "    else:\n",
    "        screen_var.set(screen_var.get() + text)\n",
    "\n",
    "root = tk.Tk()\n",
    "root.geometry(\"300x400\")\n",
    "root.title(\"Simple Calculator\")\n",
    "root.configure(bg=\"#f5f5f5\")\n",
    "\n",
    "screen_var = tk.StringVar()\n",
    "screen = tk.Entry(\n",
    "    root, textvar=screen_var, font=\"Arial 20\", bd=8, relief=tk.RIDGE,\n",
    "    justify='right', bg=\"#ffffff\", fg=\"#333333\"\n",
    ")\n",
    "screen.pack(fill=tk.BOTH, ipadx=8, pady=10, padx=10)\n",
    "\n",
    "button_frame = tk.Frame(root, bg=\"#f5f5f5\")\n",
    "button_frame.pack()\n",
    "\n",
    "buttons = [\n",
    "    ['7', '8', '9', '/'],\n",
    "    ['4', '5', '6', '*'],\n",
    "    ['1', '2', '3', '-'],\n",
    "    ['0', 'C', '=', '+']\n",
    "]\n",
    "\n",
    "for row in buttons:\n",
    "    btn_row = tk.Frame(button_frame, bg=\"#f5f5f5\")\n",
    "    btn_row.pack(expand=True, fill='both')\n",
    "    for char in row:\n",
    "        # Set professional colors for different button types\n",
    "        if char in \"+-*/\":\n",
    "            btn_color = '#4f81bd'          # Muted blue for operators\n",
    "            active_color = '#385d7a'\n",
    "        elif char == \"=\":\n",
    "            btn_color = '#70ad47'          # Muted green for equals\n",
    "            active_color = '#527934'\n",
    "        elif char == \"C\":\n",
    "            btn_color = '#c0504d'          # Muted red for clear\n",
    "            active_color = '#8f3937'\n",
    "        else:\n",
    "            btn_color = '#e0e0e0'          # Soft gray for digits\n",
    "            active_color = '#bdbdbd'\n",
    "\n",
    "        btn = tk.Button(\n",
    "            btn_row,\n",
    "            text=char,\n",
    "            font='Arial 18',\n",
    "            relief=tk.GROOVE,\n",
    "            height=2,\n",
    "            width=5,\n",
    "            bg=btn_color,\n",
    "            fg=\"#333333\",\n",
    "            activebackground=active_color,\n",
    "            activeforeground=\"#ffffff\"\n",
    "        )\n",
    "        btn.pack(side=tk.LEFT, expand=True, fill='both')\n",
    "        btn.bind(\"<Button-1>\", on_click)\n",
    "\n",
    "root.mainloop()"
   ]
  },
  {
   "cell_type": "code",
   "execution_count": null,
   "id": "1464f5ed-2bea-4bfa-8ff8-23408b99a812",
   "metadata": {},
   "outputs": [],
   "source": []
  },
  {
   "cell_type": "code",
   "execution_count": null,
   "id": "6668f12b-149d-403e-a28c-25c0dfd9731e",
   "metadata": {},
   "outputs": [],
   "source": []
  }
 ],
 "metadata": {
  "kernelspec": {
   "display_name": "Python [conda env:base] *",
   "language": "python",
   "name": "conda-base-py"
  },
  "language_info": {
   "codemirror_mode": {
    "name": "ipython",
    "version": 3
   },
   "file_extension": ".py",
   "mimetype": "text/x-python",
   "name": "python",
   "nbconvert_exporter": "python",
   "pygments_lexer": "ipython3",
   "version": "3.12.7"
  }
 },
 "nbformat": 4,
 "nbformat_minor": 5
}
